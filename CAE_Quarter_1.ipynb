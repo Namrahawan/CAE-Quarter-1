{
  "nbformat": 4,
  "nbformat_minor": 0,
  "metadata": {
    "colab": {
      "provenance": [],
      "authorship_tag": "ABX9TyM+O80Z3kmPdCC5uiA4mDJB",
      "include_colab_link": true
    },
    "kernelspec": {
      "name": "python3",
      "display_name": "Python 3"
    },
    "language_info": {
      "name": "python"
    }
  },
  "cells": [
    {
      "cell_type": "markdown",
      "metadata": {
        "id": "view-in-github",
        "colab_type": "text"
      },
      "source": [
        "<a href=\"https://colab.research.google.com/github/Namrahawan/CAE-Quarter-1/blob/main/CAE_Quarter_1.ipynb\" target=\"_parent\"><img src=\"https://colab.research.google.com/assets/colab-badge.svg\" alt=\"Open In Colab\"/></a>"
      ]
    },
    {
      "cell_type": "markdown",
      "source": [
        "CAE (\"Certified Agentic AI and Robotics Engineer\") ,, Home Projects... 00_intro_python"
      ],
      "metadata": {
        "id": "S1EzAngrm4rV"
      }
    },
    {
      "cell_type": "code",
      "source": [
        "# way to check type .The type() function\n",
        "type(\"Andrew\") #str\n",
        "type(100) #int\n",
        "type(2.99) #float\n",
        "\n",
        "# Python as a calculator!\n",
        "print(28+35+43+50+65+70+68+66+75+80+95)\n",
        "\n",
        "# How do I compute 1.05 to the power of 10?  (Exponentiation)\n",
        "print(1.05 ** 10)\n",
        "\n",
        "# Write code to convert 6 feet to meters (1 foot = 0.3048 meters)\n",
        "print(6 * 0.3048)\n",
        "\n",
        "#Simple variable declaration\n",
        "fav_celeb: int = \"Namrah\"\n",
        "print(fav_celeb)    #  datatypes = int, str, float, list, bool, dict, set"
      ],
      "metadata": {
        "colab": {
          "base_uri": "https://localhost:8080/"
        },
        "id": "iO0vzrPfm6Il",
        "outputId": "35c1cff7-bd74-4dc0-d770-e10376c0f303"
      },
      "execution_count": null,
      "outputs": [
        {
          "output_type": "stream",
          "name": "stdout",
          "text": [
            "675\n",
            "1.628894626777442\n",
            "1.8288000000000002\n",
            "Namrah\n"
          ]
        }
      ]
    },
    {
      "cell_type": "code",
      "source": [
        "# print(((75 - 32) * 5 / 9)) step 1 way\n",
        "# print(\"The temperature 75F in degrees Celsius is ((75 - 32) * 5 / 9)C\") step 2 way\n",
        "# Mixing strings with computations or data: (f-Strings) [compact way to do step 1 and 2]\n",
        "print(f\"The temperature 75F in degrees celsius is {(75 - 32) * 5 / 9}C\")"
      ],
      "metadata": {
        "colab": {
          "base_uri": "https://localhost:8080/"
        },
        "id": "_y91JeZonR7d",
        "outputId": "6ebb941e-fdea-49ef-e36b-2918ad3d0937"
      },
      "execution_count": null,
      "outputs": [
        {
          "output_type": "stream",
          "name": "stdout",
          "text": [
            "The temperature 75F in degrees celsius is 23.88888888888889C\n"
          ]
        }
      ]
    },
    {
      "cell_type": "code",
      "source": [
        "num1 = 4\n",
        "print(f\"My age is {num1:.0f}\")\n",
        "# .0f means format the number as a floating-point number\n",
        "# with zero digits after the decimal point."
      ],
      "metadata": {
        "colab": {
          "base_uri": "https://localhost:8080/"
        },
        "id": "89cdqS832o7r",
        "outputId": "1d762ada-a97e-483c-9162-2ec339ccd2ec"
      },
      "execution_count": null,
      "outputs": [
        {
          "output_type": "stream",
          "name": "stdout",
          "text": [
            "My age is 4\n"
          ]
        }
      ]
    },
    {
      "cell_type": "code",
      "source": [
        "age: int = 28\n",
        "print(age)\n",
        "print(type(age))\n",
        "\n",
        "# age is an obj belonging to int class\n",
        "# Objects have methods & attributes\n",
        "# methods = actions (i.e: coding)\n",
        "# attributes = properties (i.e: name)\n",
        "\n",
        "# see all methods and attributes\n",
        "print([i for i in dir(age) if '__' not in i])"
      ],
      "metadata": {
        "colab": {
          "base_uri": "https://localhost:8080/"
        },
        "id": "TLOBWDkC3D5D",
        "outputId": "3ca59470-0127-454d-eb9a-fd1c51cdab7f"
      },
      "execution_count": null,
      "outputs": [
        {
          "output_type": "stream",
          "name": "stdout",
          "text": [
            "28\n",
            "<class 'int'>\n",
            "['as_integer_ratio', 'bit_count', 'bit_length', 'conjugate', 'denominator', 'from_bytes', 'imag', 'numerator', 'real', 'to_bytes']\n"
          ]
        }
      ]
    },
    {
      "cell_type": "code",
      "source": [
        "age1: int = 2\n",
        "print(age1)\n",
        "\n",
        "age1 = 5\n",
        "print(age1)\n",
        "\n",
        "age1 = 10\n",
        "print(age1)\n",
        "\n",
        "print(age1)"
      ],
      "metadata": {
        "colab": {
          "base_uri": "https://localhost:8080/"
        },
        "id": "fYv4Szmp70Db",
        "outputId": "d0e90d9f-95d7-4d7c-e601-97576a32a8ce"
      },
      "execution_count": null,
      "outputs": [
        {
          "output_type": "stream",
          "name": "stdout",
          "text": [
            "2\n",
            "5\n",
            "10\n",
            "10\n"
          ]
        }
      ]
    },
    {
      "cell_type": "code",
      "source": [],
      "metadata": {
        "id": "Mvj1djZE8AIT"
      },
      "execution_count": null,
      "outputs": []
    },
    {
      "cell_type": "markdown",
      "source": [
        "homework_projects. (00_intro_python)"
      ],
      "metadata": {
        "id": "-ILiDccQ2oCj"
      }
    },
    {
      "cell_type": "code",
      "source": [
        "# (1).01_add_two_numbers.md\n",
        "#Write a Python program that takes two integer inputs from the user and calculates their sum\n",
        "first_num = int(input(\"Enter the first number\"))\n",
        "second_num = int(input(\"Enter the second num\"))\n",
        "final_sum = first_num + second_num\n",
        "print(\"Sum of two numbers is\", final_sum)"
      ],
      "metadata": {
        "id": "CfcyBJCTnUrF"
      },
      "execution_count": null,
      "outputs": []
    },
    {
      "cell_type": "code",
      "source": [
        "#Do the same sum but with (\"TYPE HINTS\" :they're just annotations to help developers understand what type of data a variable is expected to hold) and (function)\n",
        "def main():\n",
        "  print(\"This program adds two numbers\")\n",
        "  num1:str = input(\"Enter the first number: \")\n",
        "  num1:int = int(num1)\n",
        "  num2:str = input(\"Enter the second number: \")\n",
        "  num2:int = int(num2)\n",
        "  total:int = num1 + num2\n",
        "  print(\"The total is \" + str(total) + \".\") #Concat\n",
        "if __name__ == '__main__':\n",
        "  main()"
      ],
      "metadata": {
        "id": "x5LbdjamnYX1"
      },
      "execution_count": null,
      "outputs": []
    },
    {
      "cell_type": "code",
      "source": [
        "# (2) 02_agreement_bot.md\n",
        "#Write a program which asks the user what their favorite animal is, and then always responds with \"My favorite animal is also ___!\" user input is in bold italics\n",
        "def main():\n",
        "  print(\"Program will asks the user what's their favorite animal\")\n",
        "  fav_animal:str = input(\"Whats Your fav animal? \")\n",
        "  formatted_animal = f\"\\033[1;3m{fav_animal}\\033[0m\"  # Bold and Italics\n",
        "  print(\"My fav animal is also \", formatted_animal, \"!\")\n",
        "\n",
        "if __name__ == '__main__':\n",
        "  main()"
      ],
      "metadata": {
        "id": "msU6qv80nbD9"
      },
      "execution_count": null,
      "outputs": []
    },
    {
      "cell_type": "code",
      "source": [
        "# (3) 03_fahrenheit_to_celsius.md\n",
        "#Write a program which prompts the user for a temperature in Fahrenheit (this can be a number with decimal places!)\n",
        "# and outputs the temperature converted to Celsius. user input is in bold italics f\"\\033[1;3m{user_input}\\033[0m\"\n",
        "def main():\n",
        "  print(\"This program will convert Fahrenheit to Celsius\")\n",
        "  user_input:str = input(\"Enter the temperature in fahrenheit \")\n",
        "  user_input:float = float(user_input)\n",
        "  formatted_input = f\"\\033[1;3m{user_input}\\033[0m\"\n",
        "  degree_celsius:int = (user_input - 32) * 5.0/9.0\n",
        "  print(user_input, \"to celsius is: \", degree_celsius)\n",
        "if __name__ == '__main__':\n",
        "  main()"
      ],
      "metadata": {
        "id": "AAKUyTmBnd_t"
      },
      "execution_count": null,
      "outputs": []
    },
    {
      "cell_type": "code",
      "source": [
        "# (4) 04_how_old_are_they.md\n",
        "# Write a program to solve this age-related riddle!\n",
        "# Anton, Beth, Chen, Drew, and Ethan are all friends. Their ages are as follows:\n",
        "# Anton is 21 years old.Beth is 6 years older than Anton.Chen is 20 years older than Beth.Drew is as old as Chen's age plus Anton's age.Ethan is the same age as Chen.\n",
        "# Your code should store each person's age to a variable and print their names and ages at the end\n",
        "def main():\n",
        "  print(\"This program will solve this age-related riddle!\")\n",
        "  anton_age:int = 21\n",
        "  beth_age:int = anton_age + 6\n",
        "  chen_age:int = beth_age + 20\n",
        "  drew_age:int = chen_age + anton_age\n",
        "  ethan_age:int = chen_age\n",
        "\n",
        "  print(\"Anton is \",anton_age)\n",
        "  print(\"Beth is \", beth_age)\n",
        "  print(\"Chen is \", chen_age)\n",
        "  print(\"Drew is \", drew_age)\n",
        "  print(\"Ethan is \", ethan_age)\n",
        "if __name__ == '__main__':\n",
        "  main()"
      ],
      "metadata": {
        "id": "yIoHiFnvnhCt"
      },
      "execution_count": null,
      "outputs": []
    },
    {
      "cell_type": "code",
      "source": [
        "# (5) 05_triangle_perimeter.md\n",
        "# Prompt the user to enter the lengths of each side of a triangle and then calculate and print the perimeter of the triangle (the sum of all of the side lengths).\n",
        "# user input is in bold italics  f\"\\033[1;3m{user_input}\\033[0m\"\n",
        "def main():\n",
        "  print(\"This program will calculate the perimeter of a triangle\")\n",
        "  side_one = int(input(\"Enter the length of side 1: \"))\n",
        "  side_two = int(input(\"Enter the length of side 2: \"))\n",
        "  #as above you can use simple syntax as for side one and two but below for side 3 i used different syntax both work well\n",
        "  side_three: str = input(\"Enter the length of side 3: \")\n",
        "  side_three:int = int(side_three)\n",
        "  f\"\\033[1;3m{side_one, side_two, side_three}\\033[0m\"\n",
        "  #print(\"The perimeter of triangle is \" + str(side_one + side_two + side_three))  \"can also use this line to print\"\n",
        "  perimeter:int = side_one + side_two + side_three\n",
        "  print(\"The perimeter of the triangle is \", perimeter)\n",
        "if __name__ == '__main__':\n",
        "  main()\n"
      ],
      "metadata": {
        "id": "6cM01LGInlJl"
      },
      "execution_count": null,
      "outputs": []
    },
    {
      "cell_type": "code",
      "source": [
        "# (6) 06_square_number.md\n",
        "# Ask the user for a number and print its square (the product of the number times itself).\n",
        "# user input is in bold italics f\"\\033[1;3m{user_input}\\033[0m\"\n",
        "def main():\n",
        "  print(\"This program will calculate the square of a number\")\n",
        "  num:str = input(\"Enter a number: \")\n",
        "  num:int = int(num)\n",
        "  f\"\\033[1;3m{num}\\033[0m\"\n",
        "  square = num * num\n",
        "  print(\"The square of num is: \", square)\n",
        "if __name__ == '__main__':\n",
        "  main()"
      ],
      "metadata": {
        "id": "6d2OX-0dno4V"
      },
      "execution_count": null,
      "outputs": []
    },
    {
      "cell_type": "markdown",
      "source": [
        "Home Projects... 01_expressions"
      ],
      "metadata": {
        "id": "tlib7ZwQnzXl"
      }
    },
    {
      "cell_type": "code",
      "source": [
        "# (1) 01_dicesimulator.md\n",
        "#"
      ],
      "metadata": {
        "id": "pmfnA3JUn0N2"
      },
      "execution_count": null,
      "outputs": []
    }
  ]
}